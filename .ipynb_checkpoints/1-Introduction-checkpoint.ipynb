{
 "cells": [
  {
   "cell_type": "code",
   "execution_count": 51,
   "metadata": {
    "collapsed": true
   },
   "outputs": [],
   "source": [
    "import pandas as pd\n",
    "df = pd.read_csv(\"avocado.csv\")"
   ]
  },
  {
   "cell_type": "markdown",
   "source": [
    ".head() to get a quick overview for the first few rows"
   ],
   "metadata": {
    "collapsed": false,
    "pycharm": {
     "name": "#%% md\n"
    }
   }
  },
  {
   "cell_type": "code",
   "execution_count": 52,
   "outputs": [
    {
     "data": {
      "text/plain": "   Unnamed: 0        Date  AveragePrice  Total Volume     4046       4225  \\\n0           0  2015-12-27          1.33      64236.62  1036.74   54454.85   \n1           1  2015-12-20          1.35      54876.98   674.28   44638.81   \n2           2  2015-12-13          0.93     118220.22   794.70  109149.67   \n\n     4770  Total Bags  Small Bags  Large Bags  XLarge Bags          type  \\\n0   48.16     8696.87     8603.62       93.25          0.0  conventional   \n1   58.33     9505.56     9408.07       97.49          0.0  conventional   \n2  130.50     8145.35     8042.21      103.14          0.0  conventional   \n\n   year  region  \n0  2015  Albany  \n1  2015  Albany  \n2  2015  Albany  ",
      "text/html": "<div>\n<style scoped>\n    .dataframe tbody tr th:only-of-type {\n        vertical-align: middle;\n    }\n\n    .dataframe tbody tr th {\n        vertical-align: top;\n    }\n\n    .dataframe thead th {\n        text-align: right;\n    }\n</style>\n<table border=\"1\" class=\"dataframe\">\n  <thead>\n    <tr style=\"text-align: right;\">\n      <th></th>\n      <th>Unnamed: 0</th>\n      <th>Date</th>\n      <th>AveragePrice</th>\n      <th>Total Volume</th>\n      <th>4046</th>\n      <th>4225</th>\n      <th>4770</th>\n      <th>Total Bags</th>\n      <th>Small Bags</th>\n      <th>Large Bags</th>\n      <th>XLarge Bags</th>\n      <th>type</th>\n      <th>year</th>\n      <th>region</th>\n    </tr>\n  </thead>\n  <tbody>\n    <tr>\n      <th>0</th>\n      <td>0</td>\n      <td>2015-12-27</td>\n      <td>1.33</td>\n      <td>64236.62</td>\n      <td>1036.74</td>\n      <td>54454.85</td>\n      <td>48.16</td>\n      <td>8696.87</td>\n      <td>8603.62</td>\n      <td>93.25</td>\n      <td>0.0</td>\n      <td>conventional</td>\n      <td>2015</td>\n      <td>Albany</td>\n    </tr>\n    <tr>\n      <th>1</th>\n      <td>1</td>\n      <td>2015-12-20</td>\n      <td>1.35</td>\n      <td>54876.98</td>\n      <td>674.28</td>\n      <td>44638.81</td>\n      <td>58.33</td>\n      <td>9505.56</td>\n      <td>9408.07</td>\n      <td>97.49</td>\n      <td>0.0</td>\n      <td>conventional</td>\n      <td>2015</td>\n      <td>Albany</td>\n    </tr>\n    <tr>\n      <th>2</th>\n      <td>2</td>\n      <td>2015-12-13</td>\n      <td>0.93</td>\n      <td>118220.22</td>\n      <td>794.70</td>\n      <td>109149.67</td>\n      <td>130.50</td>\n      <td>8145.35</td>\n      <td>8042.21</td>\n      <td>103.14</td>\n      <td>0.0</td>\n      <td>conventional</td>\n      <td>2015</td>\n      <td>Albany</td>\n    </tr>\n  </tbody>\n</table>\n</div>"
     },
     "execution_count": 52,
     "metadata": {},
     "output_type": "execute_result"
    }
   ],
   "source": [
    "df.head(3)"
   ],
   "metadata": {
    "collapsed": false,
    "pycharm": {
     "name": "#%%\n"
    }
   }
  },
  {
   "cell_type": "markdown",
   "source": [
    "Selecting a specific column"
   ],
   "metadata": {
    "collapsed": false,
    "pycharm": {
     "name": "#%% md\n"
    }
   }
  },
  {
   "cell_type": "code",
   "execution_count": 53,
   "outputs": [
    {
     "data": {
      "text/plain": "0    1.33\n1    1.35\n2    0.93\nName: AveragePrice, dtype: float64"
     },
     "execution_count": 53,
     "metadata": {},
     "output_type": "execute_result"
    }
   ],
   "source": [
    "df[\"AveragePrice\"].head(3)"
   ],
   "metadata": {
    "collapsed": false,
    "pycharm": {
     "name": "#%%\n"
    }
   }
  },
  {
   "cell_type": "markdown",
   "source": [
    "df[ ...condition... ] to filter"
   ],
   "metadata": {
    "collapsed": false,
    "pycharm": {
     "name": "#%% md\n"
    }
   }
  },
  {
   "cell_type": "code",
   "execution_count": 54,
   "outputs": [
    {
     "data": {
      "text/plain": "   Unnamed: 0        Date  AveragePrice  Total Volume     4046       4225  \\\n0           0  2015-12-27          1.33      64236.62  1036.74   54454.85   \n1           1  2015-12-20          1.35      54876.98   674.28   44638.81   \n2           2  2015-12-13          0.93     118220.22   794.70  109149.67   \n\n     4770  Total Bags  Small Bags  Large Bags  XLarge Bags          type  \\\n0   48.16     8696.87     8603.62       93.25          0.0  conventional   \n1   58.33     9505.56     9408.07       97.49          0.0  conventional   \n2  130.50     8145.35     8042.21      103.14          0.0  conventional   \n\n   year  region  \n0  2015  Albany  \n1  2015  Albany  \n2  2015  Albany  ",
      "text/html": "<div>\n<style scoped>\n    .dataframe tbody tr th:only-of-type {\n        vertical-align: middle;\n    }\n\n    .dataframe tbody tr th {\n        vertical-align: top;\n    }\n\n    .dataframe thead th {\n        text-align: right;\n    }\n</style>\n<table border=\"1\" class=\"dataframe\">\n  <thead>\n    <tr style=\"text-align: right;\">\n      <th></th>\n      <th>Unnamed: 0</th>\n      <th>Date</th>\n      <th>AveragePrice</th>\n      <th>Total Volume</th>\n      <th>4046</th>\n      <th>4225</th>\n      <th>4770</th>\n      <th>Total Bags</th>\n      <th>Small Bags</th>\n      <th>Large Bags</th>\n      <th>XLarge Bags</th>\n      <th>type</th>\n      <th>year</th>\n      <th>region</th>\n    </tr>\n  </thead>\n  <tbody>\n    <tr>\n      <th>0</th>\n      <td>0</td>\n      <td>2015-12-27</td>\n      <td>1.33</td>\n      <td>64236.62</td>\n      <td>1036.74</td>\n      <td>54454.85</td>\n      <td>48.16</td>\n      <td>8696.87</td>\n      <td>8603.62</td>\n      <td>93.25</td>\n      <td>0.0</td>\n      <td>conventional</td>\n      <td>2015</td>\n      <td>Albany</td>\n    </tr>\n    <tr>\n      <th>1</th>\n      <td>1</td>\n      <td>2015-12-20</td>\n      <td>1.35</td>\n      <td>54876.98</td>\n      <td>674.28</td>\n      <td>44638.81</td>\n      <td>58.33</td>\n      <td>9505.56</td>\n      <td>9408.07</td>\n      <td>97.49</td>\n      <td>0.0</td>\n      <td>conventional</td>\n      <td>2015</td>\n      <td>Albany</td>\n    </tr>\n    <tr>\n      <th>2</th>\n      <td>2</td>\n      <td>2015-12-13</td>\n      <td>0.93</td>\n      <td>118220.22</td>\n      <td>794.70</td>\n      <td>109149.67</td>\n      <td>130.50</td>\n      <td>8145.35</td>\n      <td>8042.21</td>\n      <td>103.14</td>\n      <td>0.0</td>\n      <td>conventional</td>\n      <td>2015</td>\n      <td>Albany</td>\n    </tr>\n  </tbody>\n</table>\n</div>"
     },
     "execution_count": 54,
     "metadata": {},
     "output_type": "execute_result"
    }
   ],
   "source": [
    "df_albany = df[df['region'] == \"Albany\"]\n",
    "df_albany.head(3)"
   ],
   "metadata": {
    "collapsed": false,
    "pycharm": {
     "name": "#%%\n"
    }
   }
  },
  {
   "cell_type": "markdown",
   "source": [
    "- The problem is we wanna index it by \"Date\"\n",
    "- Note that df.set_index() returns a new data frame, we need to tell it to do it inplace"
   ],
   "metadata": {
    "collapsed": false,
    "pycharm": {
     "name": "#%% md\n"
    }
   }
  },
  {
   "cell_type": "code",
   "execution_count": 55,
   "outputs": [
    {
     "data": {
      "text/plain": "            Unnamed: 0  AveragePrice  Total Volume     4046       4225  \\\nDate                                                                     \n2015-12-27           0          1.33      64236.62  1036.74   54454.85   \n2015-12-20           1          1.35      54876.98   674.28   44638.81   \n2015-12-13           2          0.93     118220.22   794.70  109149.67   \n\n              4770  Total Bags  Small Bags  Large Bags  XLarge Bags  \\\nDate                                                                  \n2015-12-27   48.16     8696.87     8603.62       93.25          0.0   \n2015-12-20   58.33     9505.56     9408.07       97.49          0.0   \n2015-12-13  130.50     8145.35     8042.21      103.14          0.0   \n\n                    type  year  region  \nDate                                    \n2015-12-27  conventional  2015  Albany  \n2015-12-20  conventional  2015  Albany  \n2015-12-13  conventional  2015  Albany  ",
      "text/html": "<div>\n<style scoped>\n    .dataframe tbody tr th:only-of-type {\n        vertical-align: middle;\n    }\n\n    .dataframe tbody tr th {\n        vertical-align: top;\n    }\n\n    .dataframe thead th {\n        text-align: right;\n    }\n</style>\n<table border=\"1\" class=\"dataframe\">\n  <thead>\n    <tr style=\"text-align: right;\">\n      <th></th>\n      <th>Unnamed: 0</th>\n      <th>AveragePrice</th>\n      <th>Total Volume</th>\n      <th>4046</th>\n      <th>4225</th>\n      <th>4770</th>\n      <th>Total Bags</th>\n      <th>Small Bags</th>\n      <th>Large Bags</th>\n      <th>XLarge Bags</th>\n      <th>type</th>\n      <th>year</th>\n      <th>region</th>\n    </tr>\n    <tr>\n      <th>Date</th>\n      <th></th>\n      <th></th>\n      <th></th>\n      <th></th>\n      <th></th>\n      <th></th>\n      <th></th>\n      <th></th>\n      <th></th>\n      <th></th>\n      <th></th>\n      <th></th>\n      <th></th>\n    </tr>\n  </thead>\n  <tbody>\n    <tr>\n      <th>2015-12-27</th>\n      <td>0</td>\n      <td>1.33</td>\n      <td>64236.62</td>\n      <td>1036.74</td>\n      <td>54454.85</td>\n      <td>48.16</td>\n      <td>8696.87</td>\n      <td>8603.62</td>\n      <td>93.25</td>\n      <td>0.0</td>\n      <td>conventional</td>\n      <td>2015</td>\n      <td>Albany</td>\n    </tr>\n    <tr>\n      <th>2015-12-20</th>\n      <td>1</td>\n      <td>1.35</td>\n      <td>54876.98</td>\n      <td>674.28</td>\n      <td>44638.81</td>\n      <td>58.33</td>\n      <td>9505.56</td>\n      <td>9408.07</td>\n      <td>97.49</td>\n      <td>0.0</td>\n      <td>conventional</td>\n      <td>2015</td>\n      <td>Albany</td>\n    </tr>\n    <tr>\n      <th>2015-12-13</th>\n      <td>2</td>\n      <td>0.93</td>\n      <td>118220.22</td>\n      <td>794.70</td>\n      <td>109149.67</td>\n      <td>130.50</td>\n      <td>8145.35</td>\n      <td>8042.21</td>\n      <td>103.14</td>\n      <td>0.0</td>\n      <td>conventional</td>\n      <td>2015</td>\n      <td>Albany</td>\n    </tr>\n  </tbody>\n</table>\n</div>"
     },
     "execution_count": 55,
     "metadata": {},
     "output_type": "execute_result"
    }
   ],
   "source": [
    "df_albany.set_index(\"Date\", inplace=True)\n",
    "df_albany.head(3)"
   ],
   "metadata": {
    "collapsed": false,
    "pycharm": {
     "name": "#%%\n"
    }
   }
  },
  {
   "cell_type": "markdown",
   "source": [
    "- Plot is also simple with df.plot()\n",
    "- df[\"Column_name\"].plot() will plot the column data w.r.t your index column\n",
    "- Note that \"AveragePrice\" column is not sorted, so the plot here isn't accurate"
   ],
   "metadata": {
    "collapsed": false,
    "pycharm": {
     "name": "#%% md\n"
    }
   }
  },
  {
   "cell_type": "code",
   "execution_count": 59,
   "outputs": [
    {
     "data": {
      "text/plain": "<AxesSubplot:xlabel='Date'>"
     },
     "execution_count": 59,
     "metadata": {},
     "output_type": "execute_result"
    },
    {
     "data": {
      "text/plain": "<Figure size 432x288 with 1 Axes>",
      "image/png": "[encoded data removed]"
     },
     "metadata": {
      "needs_background": "light"
     },
     "output_type": "display_data"
    }
   ],
   "source": [
    "df_albany[\"AveragePrice\"].plot()"
   ],
   "metadata": {
    "collapsed": false,
    "pycharm": {
     "name": "#%%\n"
    }
   }
  },
  {
   "cell_type": "markdown",
   "source": [
    "\n"
   ],
   "metadata": {
    "collapsed": false,
    "pycharm": {
     "name": "#%% md\n"
    }
   }
  }
 ],
 "metadata": {
  "kernelspec": {
   "display_name": "Python 3",
   "language": "python",
   "name": "python3"
  },
  "language_info": {
   "codemirror_mode": {
    "name": "ipython",
    "version": 2
   },
   "file_extension": ".py",
   "mimetype": "text/x-python",
   "name": "python",
   "nbconvert_exporter": "python",
   "pygments_lexer": "ipython2",
   "version": "2.7.6"
  }
 },
 "nbformat": 4,
 "nbformat_minor": 0
}