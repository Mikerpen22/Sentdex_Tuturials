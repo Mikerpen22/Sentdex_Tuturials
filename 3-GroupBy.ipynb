{
 "cells": [
  {
   "cell_type": "code",
   "execution_count": 1,
   "metadata": {
    "collapsed": true
   },
   "outputs": [],
   "source": [
    "import pandas as pd\n",
    "\n",
    "df = pd.read_csv(\"Minimum Wage Data.csv\")"
   ]
  },
  {
   "cell_type": "code",
   "execution_count": 2,
   "outputs": [
    {
     "data": {
      "text/plain": "   Year       State  State.Minimum.Wage  State.Minimum.Wage.2020.Dollars  \\\n0  1968     Alabama             0.00000                             0.00   \n1  1968      Alaska             2.10000                            15.61   \n2  1968     Arizona             0.46800                             3.48   \n3  1968    Arkansas             0.15625                             1.16   \n4  1968  California             1.65000                            12.26   \n\n   Federal.Minimum.Wage  Federal.Minimum.Wage.2020.Dollars  \\\n0                  1.15                               8.55   \n1                  1.15                               8.55   \n2                  1.15                               8.55   \n3                  1.15                               8.55   \n4                  1.15                               8.55   \n\n   Effective.Minimum.Wage  Effective.Minimum.Wage.2020.Dollars  CPI.Average  \\\n0                    1.15                                 8.55         34.8   \n1                    2.10                                15.61         34.8   \n2                    1.15                                 8.55         34.8   \n3                    1.15                                 8.55         34.8   \n4                    1.65                                12.26         34.8   \n\n  Department.Of.Labor.Uncleaned.Data  Department.Of.Labor.Cleaned.Low.Value  \\\n0                                ...                                0.00000   \n1                                2.1                                2.10000   \n2                18.72 - 26.40/wk(b)                                0.46800   \n3                        1.25/day(b)                                0.15625   \n4                            1.65(b)                                1.65000   \n\n   Department.Of.Labor.Cleaned.Low.Value.2020.Dollars  \\\n0                                               0.00    \n1                                              15.61    \n2                                               3.48    \n3                                               1.16    \n4                                              12.26    \n\n   Department.Of.Labor.Cleaned.High.Value  \\\n0                                 0.00000   \n1                                 2.10000   \n2                                 0.66000   \n3                                 0.15625   \n4                                 1.65000   \n\n   Department.Of.Labor.Cleaned.High.Value.2020.Dollars Footnote  \n0                                               0.00        NaN  \n1                                              15.61        NaN  \n2                                               4.91        (b)  \n3                                               1.16        (b)  \n4                                              12.26        (b)  ",
      "text/html": "<div>\n<style scoped>\n    .dataframe tbody tr th:only-of-type {\n        vertical-align: middle;\n    }\n\n    .dataframe tbody tr th {\n        vertical-align: top;\n    }\n\n    .dataframe thead th {\n        text-align: right;\n    }\n</style>\n<table border=\"1\" class=\"dataframe\">\n  <thead>\n    <tr style=\"text-align: right;\">\n      <th></th>\n      <th>Year</th>\n      <th>State</th>\n      <th>State.Minimum.Wage</th>\n      <th>State.Minimum.Wage.2020.Dollars</th>\n      <th>Federal.Minimum.Wage</th>\n      <th>Federal.Minimum.Wage.2020.Dollars</th>\n      <th>Effective.Minimum.Wage</th>\n      <th>Effective.Minimum.Wage.2020.Dollars</th>\n      <th>CPI.Average</th>\n      <th>Department.Of.Labor.Uncleaned.Data</th>\n      <th>Department.Of.Labor.Cleaned.Low.Value</th>\n      <th>Department.Of.Labor.Cleaned.Low.Value.2020.Dollars</th>\n      <th>Department.Of.Labor.Cleaned.High.Value</th>\n      <th>Department.Of.Labor.Cleaned.High.Value.2020.Dollars</th>\n      <th>Footnote</th>\n    </tr>\n  </thead>\n  <tbody>\n    <tr>\n      <th>0</th>\n      <td>1968</td>\n      <td>Alabama</td>\n      <td>0.00000</td>\n      <td>0.00</td>\n      <td>1.15</td>\n      <td>8.55</td>\n      <td>1.15</td>\n      <td>8.55</td>\n      <td>34.8</td>\n      <td>...</td>\n      <td>0.00000</td>\n      <td>0.00</td>\n      <td>0.00000</td>\n      <td>0.00</td>\n      <td>NaN</td>\n    </tr>\n    <tr>\n      <th>1</th>\n      <td>1968</td>\n      <td>Alaska</td>\n      <td>2.10000</td>\n      <td>15.61</td>\n      <td>1.15</td>\n      <td>8.55</td>\n      <td>2.10</td>\n      <td>15.61</td>\n      <td>34.8</td>\n      <td>2.1</td>\n      <td>2.10000</td>\n      <td>15.61</td>\n      <td>2.10000</td>\n      <td>15.61</td>\n      <td>NaN</td>\n    </tr>\n    <tr>\n      <th>2</th>\n      <td>1968</td>\n      <td>Arizona</td>\n      <td>0.46800</td>\n      <td>3.48</td>\n      <td>1.15</td>\n      <td>8.55</td>\n      <td>1.15</td>\n      <td>8.55</td>\n      <td>34.8</td>\n      <td>18.72 - 26.40/wk(b)</td>\n      <td>0.46800</td>\n      <td>3.48</td>\n      <td>0.66000</td>\n      <td>4.91</td>\n      <td>(b)</td>\n    </tr>\n    <tr>\n      <th>3</th>\n      <td>1968</td>\n      <td>Arkansas</td>\n      <td>0.15625</td>\n      <td>1.16</td>\n      <td>1.15</td>\n      <td>8.55</td>\n      <td>1.15</td>\n      <td>8.55</td>\n      <td>34.8</td>\n      <td>1.25/day(b)</td>\n      <td>0.15625</td>\n      <td>1.16</td>\n      <td>0.15625</td>\n      <td>1.16</td>\n      <td>(b)</td>\n    </tr>\n    <tr>\n      <th>4</th>\n      <td>1968</td>\n      <td>California</td>\n      <td>1.65000</td>\n      <td>12.26</td>\n      <td>1.15</td>\n      <td>8.55</td>\n      <td>1.65</td>\n      <td>12.26</td>\n      <td>34.8</td>\n      <td>1.65(b)</td>\n      <td>1.65000</td>\n      <td>12.26</td>\n      <td>1.65000</td>\n      <td>12.26</td>\n      <td>(b)</td>\n    </tr>\n  </tbody>\n</table>\n</div>"
     },
     "execution_count": 2,
     "metadata": {},
     "output_type": "execute_result"
    }
   ],
   "source": [
    "df.head(5)"
   ],
   "metadata": {
    "collapsed": false,
    "pycharm": {
     "name": "#%%\n"
    }
   }
  },
  {
   "cell_type": "markdown",
   "source": [
    "#### 2 ways to filter out all \"Arizona\" from the \"State\" column:\n",
    "1. df.groupby()  -->  return a iterative groupby object\n",
    "2. df.copy()[...condition...]"
   ],
   "metadata": {
    "collapsed": false,
    "pycharm": {
     "name": "#%% md\n"
    }
   }
  },
  {
   "cell_type": "code",
   "execution_count": 3,
   "outputs": [
    {
     "data": {
      "text/plain": "        State  State.Minimum.Wage  State.Minimum.Wage.2020.Dollars  \\\nYear                                                                 \n1968  Arizona               0.468                             3.48   \n1969  Arizona               0.468                             3.30   \n1970  Arizona               0.468                             3.12   \n1971  Arizona               0.468                             2.99   \n1972  Arizona               0.468                             2.90   \n\n      Federal.Minimum.Wage  Federal.Minimum.Wage.2020.Dollars  \\\nYear                                                            \n1968                  1.15                               8.55   \n1969                  1.15                               8.11   \n1970                  1.30                               8.67   \n1971                  1.30                               8.30   \n1972                  1.60                               9.90   \n\n      Effective.Minimum.Wage  Effective.Minimum.Wage.2020.Dollars  \\\nYear                                                                \n1968                    1.15                                 8.55   \n1969                    1.15                                 8.11   \n1970                    1.30                                 8.67   \n1971                    1.30                                 8.30   \n1972                    1.60                                 9.90   \n\n      CPI.Average Department.Of.Labor.Uncleaned.Data  \\\nYear                                                   \n1968         34.8                18.72 - 26.40/wk(b)   \n1969         36.7                18.72 - 26.40/wk(b)   \n1970         38.8                18.72 - 26.40/wk(b)   \n1971         40.5                18.72 - 26.40/wk(b)   \n1972         41.8                  18.72-26.40/wk(b)   \n\n      Department.Of.Labor.Cleaned.Low.Value  \\\nYear                                          \n1968                                  0.468   \n1969                                  0.468   \n1970                                  0.468   \n1971                                  0.468   \n1972                                  0.468   \n\n      Department.Of.Labor.Cleaned.Low.Value.2020.Dollars  \\\nYear                                                       \n1968                                               3.48    \n1969                                               3.30    \n1970                                               3.12    \n1971                                               2.99    \n1972                                               2.90    \n\n      Department.Of.Labor.Cleaned.High.Value  \\\nYear                                           \n1968                                    0.66   \n1969                                    0.66   \n1970                                    0.66   \n1971                                    0.66   \n1972                                    0.66   \n\n      Department.Of.Labor.Cleaned.High.Value.2020.Dollars Footnote  \nYear                                                                \n1968                                               4.91        (b)  \n1969                                               4.65        (b)  \n1970                                               4.40        (b)  \n1971                                               4.22        (b)  \n1972                                               4.08        (b)  ",
      "text/html": "<div>\n<style scoped>\n    .dataframe tbody tr th:only-of-type {\n        vertical-align: middle;\n    }\n\n    .dataframe tbody tr th {\n        vertical-align: top;\n    }\n\n    .dataframe thead th {\n        text-align: right;\n    }\n</style>\n<table border=\"1\" class=\"dataframe\">\n  <thead>\n    <tr style=\"text-align: right;\">\n      <th></th>\n      <th>State</th>\n      <th>State.Minimum.Wage</th>\n      <th>State.Minimum.Wage.2020.Dollars</th>\n      <th>Federal.Minimum.Wage</th>\n      <th>Federal.Minimum.Wage.2020.Dollars</th>\n      <th>Effective.Minimum.Wage</th>\n      <th>Effective.Minimum.Wage.2020.Dollars</th>\n      <th>CPI.Average</th>\n      <th>Department.Of.Labor.Uncleaned.Data</th>\n      <th>Department.Of.Labor.Cleaned.Low.Value</th>\n      <th>Department.Of.Labor.Cleaned.Low.Value.2020.Dollars</th>\n      <th>Department.Of.Labor.Cleaned.High.Value</th>\n      <th>Department.Of.Labor.Cleaned.High.Value.2020.Dollars</th>\n      <th>Footnote</th>\n    </tr>\n    <tr>\n      <th>Year</th>\n      <th></th>\n      <th></th>\n      <th></th>\n      <th></th>\n      <th></th>\n      <th></th>\n      <th></th>\n      <th></th>\n      <th></th>\n      <th></th>\n      <th></th>\n      <th></th>\n      <th></th>\n      <th></th>\n    </tr>\n  </thead>\n  <tbody>\n    <tr>\n      <th>1968</th>\n      <td>Arizona</td>\n      <td>0.468</td>\n      <td>3.48</td>\n      <td>1.15</td>\n      <td>8.55</td>\n      <td>1.15</td>\n      <td>8.55</td>\n      <td>34.8</td>\n      <td>18.72 - 26.40/wk(b)</td>\n      <td>0.468</td>\n      <td>3.48</td>\n      <td>0.66</td>\n      <td>4.91</td>\n      <td>(b)</td>\n    </tr>\n    <tr>\n      <th>1969</th>\n      <td>Arizona</td>\n      <td>0.468</td>\n      <td>3.30</td>\n      <td>1.15</td>\n      <td>8.11</td>\n      <td>1.15</td>\n      <td>8.11</td>\n      <td>36.7</td>\n      <td>18.72 - 26.40/wk(b)</td>\n      <td>0.468</td>\n      <td>3.30</td>\n      <td>0.66</td>\n      <td>4.65</td>\n      <td>(b)</td>\n    </tr>\n    <tr>\n      <th>1970</th>\n      <td>Arizona</td>\n      <td>0.468</td>\n      <td>3.12</td>\n      <td>1.30</td>\n      <td>8.67</td>\n      <td>1.30</td>\n      <td>8.67</td>\n      <td>38.8</td>\n      <td>18.72 - 26.40/wk(b)</td>\n      <td>0.468</td>\n      <td>3.12</td>\n      <td>0.66</td>\n      <td>4.40</td>\n      <td>(b)</td>\n    </tr>\n    <tr>\n      <th>1971</th>\n      <td>Arizona</td>\n      <td>0.468</td>\n      <td>2.99</td>\n      <td>1.30</td>\n      <td>8.30</td>\n      <td>1.30</td>\n      <td>8.30</td>\n      <td>40.5</td>\n      <td>18.72 - 26.40/wk(b)</td>\n      <td>0.468</td>\n      <td>2.99</td>\n      <td>0.66</td>\n      <td>4.22</td>\n      <td>(b)</td>\n    </tr>\n    <tr>\n      <th>1972</th>\n      <td>Arizona</td>\n      <td>0.468</td>\n      <td>2.90</td>\n      <td>1.60</td>\n      <td>9.90</td>\n      <td>1.60</td>\n      <td>9.90</td>\n      <td>41.8</td>\n      <td>18.72-26.40/wk(b)</td>\n      <td>0.468</td>\n      <td>2.90</td>\n      <td>0.66</td>\n      <td>4.08</td>\n      <td>(b)</td>\n    </tr>\n  </tbody>\n</table>\n</div>"
     },
     "execution_count": 3,
     "metadata": {},
     "output_type": "execute_result"
    }
   ],
   "source": [
    "gb = df.groupby(\"State\")\n",
    "gb.get_group(\"Arizona\").set_index(\"Year\").head()"
   ],
   "metadata": {
    "collapsed": false,
    "pycharm": {
     "name": "#%%\n"
    }
   }
  },
  {
   "cell_type": "markdown",
   "source": [
    "#### Create a new act_min_wage dataframe, with different states as columns:\n",
    "1. iterate over groupby object to get rows of a state\n",
    "2. Use \"Year\" as index for these rows\n",
    "3. Select the \"State.Minimum.Wage\" column data for these rows, it'll return a series\n",
    "4. to_frame() to convert from series to data frame\n",
    "5. join data frames"
   ],
   "metadata": {
    "collapsed": false,
    "pycharm": {
     "name": "#%% md\n"
    }
   }
  },
  {
   "cell_type": "code",
   "execution_count": 8,
   "outputs": [
    {
     "data": {
      "text/plain": "      Alabama  Alaska  Arizona  Arkansas  California  Colorado  Connecticut  \\\nYear                                                                          \n1968      0.0     2.1    0.468   0.15625        1.65       1.0         1.40   \n1969      0.0     2.1    0.468   0.15625        1.65       1.0         1.40   \n1970      0.0     2.1    0.468   1.10000        1.65       1.0         1.60   \n1971      0.0     2.1    0.468   1.10000        1.65       1.0         1.60   \n1972      0.0     2.1    0.468   1.20000        1.65       1.0         1.85   \n\n      Delaware  District of Columbia  Florida  ...  Tennessee  Texas  \\\nYear                                           ...                     \n1968      1.25                  1.25      0.0  ...        0.0    0.0   \n1969      1.25                  1.25      0.0  ...        0.0    0.0   \n1970      1.25                  1.60      0.0  ...        0.0    0.0   \n1971      1.25                  1.60      0.0  ...        0.0    0.0   \n1972      1.60                  1.60      0.0  ...        0.0    1.4   \n\n      U.S. Virgin Islands  Utah  Vermont  Virginia  Washington  West Virginia  \\\nYear                                                                            \n1968                  0.0   1.0      1.4       0.0         1.6            1.0   \n1969                  0.0   1.0      1.4       0.0         1.6            1.0   \n1970                  0.0   1.0      1.6       0.0         1.6            1.0   \n1971                  0.0   1.0      1.6       0.0         1.6            1.0   \n1972                  0.0   1.2      1.6       0.0         1.6            1.2   \n\n      Wisconsin  Wyoming  \nYear                      \n1968       1.25      1.2  \n1969       1.25      1.2  \n1970       1.30      1.3  \n1971       1.30      1.3  \n1972       1.45      1.5  \n\n[5 rows x 54 columns]",
      "text/html": "<div>\n<style scoped>\n    .dataframe tbody tr th:only-of-type {\n        vertical-align: middle;\n    }\n\n    .dataframe tbody tr th {\n        vertical-align: top;\n    }\n\n    .dataframe thead th {\n        text-align: right;\n    }\n</style>\n<table border=\"1\" class=\"dataframe\">\n  <thead>\n    <tr style=\"text-align: right;\">\n      <th></th>\n      <th>Alabama</th>\n      <th>Alaska</th>\n      <th>Arizona</th>\n      <th>Arkansas</th>\n      <th>California</th>\n      <th>Colorado</th>\n      <th>Connecticut</th>\n      <th>Delaware</th>\n      <th>District of Columbia</th>\n      <th>Florida</th>\n      <th>...</th>\n      <th>Tennessee</th>\n      <th>Texas</th>\n      <th>U.S. Virgin Islands</th>\n      <th>Utah</th>\n      <th>Vermont</th>\n      <th>Virginia</th>\n      <th>Washington</th>\n      <th>West Virginia</th>\n      <th>Wisconsin</th>\n      <th>Wyoming</th>\n    </tr>\n    <tr>\n      <th>Year</th>\n      <th></th>\n      <th></th>\n      <th></th>\n      <th></th>\n      <th></th>\n      <th></th>\n      <th></th>\n      <th></th>\n      <th></th>\n      <th></th>\n      <th></th>\n      <th></th>\n      <th></th>\n      <th></th>\n      <th></th>\n      <th></th>\n      <th></th>\n      <th></th>\n      <th></th>\n      <th></th>\n      <th></th>\n    </tr>\n  </thead>\n  <tbody>\n    <tr>\n      <th>1968</th>\n      <td>0.0</td>\n      <td>2.1</td>\n      <td>0.468</td>\n      <td>0.15625</td>\n      <td>1.65</td>\n      <td>1.0</td>\n      <td>1.40</td>\n      <td>1.25</td>\n      <td>1.25</td>\n      <td>0.0</td>\n      <td>...</td>\n      <td>0.0</td>\n      <td>0.0</td>\n      <td>0.0</td>\n      <td>1.0</td>\n      <td>1.4</td>\n      <td>0.0</td>\n      <td>1.6</td>\n      <td>1.0</td>\n      <td>1.25</td>\n      <td>1.2</td>\n    </tr>\n    <tr>\n      <th>1969</th>\n      <td>0.0</td>\n      <td>2.1</td>\n      <td>0.468</td>\n      <td>0.15625</td>\n      <td>1.65</td>\n      <td>1.0</td>\n      <td>1.40</td>\n      <td>1.25</td>\n      <td>1.25</td>\n      <td>0.0</td>\n      <td>...</td>\n      <td>0.0</td>\n      <td>0.0</td>\n      <td>0.0</td>\n      <td>1.0</td>\n      <td>1.4</td>\n      <td>0.0</td>\n      <td>1.6</td>\n      <td>1.0</td>\n      <td>1.25</td>\n      <td>1.2</td>\n    </tr>\n    <tr>\n      <th>1970</th>\n      <td>0.0</td>\n      <td>2.1</td>\n      <td>0.468</td>\n      <td>1.10000</td>\n      <td>1.65</td>\n      <td>1.0</td>\n      <td>1.60</td>\n      <td>1.25</td>\n      <td>1.60</td>\n      <td>0.0</td>\n      <td>...</td>\n      <td>0.0</td>\n      <td>0.0</td>\n      <td>0.0</td>\n      <td>1.0</td>\n      <td>1.6</td>\n      <td>0.0</td>\n      <td>1.6</td>\n      <td>1.0</td>\n      <td>1.30</td>\n      <td>1.3</td>\n    </tr>\n    <tr>\n      <th>1971</th>\n      <td>0.0</td>\n      <td>2.1</td>\n      <td>0.468</td>\n      <td>1.10000</td>\n      <td>1.65</td>\n      <td>1.0</td>\n      <td>1.60</td>\n      <td>1.25</td>\n      <td>1.60</td>\n      <td>0.0</td>\n      <td>...</td>\n      <td>0.0</td>\n      <td>0.0</td>\n      <td>0.0</td>\n      <td>1.0</td>\n      <td>1.6</td>\n      <td>0.0</td>\n      <td>1.6</td>\n      <td>1.0</td>\n      <td>1.30</td>\n      <td>1.3</td>\n    </tr>\n    <tr>\n      <th>1972</th>\n      <td>0.0</td>\n      <td>2.1</td>\n      <td>0.468</td>\n      <td>1.20000</td>\n      <td>1.65</td>\n      <td>1.0</td>\n      <td>1.85</td>\n      <td>1.60</td>\n      <td>1.60</td>\n      <td>0.0</td>\n      <td>...</td>\n      <td>0.0</td>\n      <td>1.4</td>\n      <td>0.0</td>\n      <td>1.2</td>\n      <td>1.6</td>\n      <td>0.0</td>\n      <td>1.6</td>\n      <td>1.2</td>\n      <td>1.45</td>\n      <td>1.5</td>\n    </tr>\n  </tbody>\n</table>\n<p>5 rows × 54 columns</p>\n</div>"
     },
     "execution_count": 8,
     "metadata": {},
     "output_type": "execute_result"
    }
   ],
   "source": [
    "act_min_wage = pd.DataFrame()\n",
    "\n",
    "for name, group in gb:\n",
    "    if act_min_wage.empty:\n",
    "        act_min_wage = group.set_index(\"Year\")[\"State.Minimum.Wage\"].to_frame().rename(columns={\"State.Minimum.Wage\":name})   #df.rename() to rename column, dict key is the one to be renamed\n",
    "    else:\n",
    "        act_min_wage = act_min_wage.join(group.set_index(\"Year\")[\"State.Minimum.Wage\"].to_frame().rename(columns={\"State.Minimum.Wage\":name}))\n",
    "\n",
    "act_min_wage.head()\n"
   ],
   "metadata": {
    "collapsed": false,
    "pycharm": {
     "name": "#%%\n"
    }
   }
  },
  {
   "cell_type": "markdown",
   "source": [
    "#### - Use df.describe() : See more detailed info for the dataframe\n",
    "#### - .corr() : See the correlation between different states"
   ],
   "metadata": {
    "collapsed": false,
    "pycharm": {
     "name": "#%% md\n"
    }
   }
  },
  {
   "cell_type": "code",
   "execution_count": 12,
   "outputs": [
    {
     "data": {
      "text/plain": "            Alabama    Alaska   Arizona  Arkansas  California  Colorado  \\\nAlabama         NaN       NaN       NaN       NaN         NaN       NaN   \nAlaska          NaN  1.000000  0.813187  0.981938    0.986455  0.970585   \nArizona         NaN  0.813187  1.000000  0.805781    0.853713  0.878803   \nArkansas        NaN  0.981938  0.805781  1.000000    0.981222  0.974544   \nCalifornia      NaN  0.986455  0.853713  0.981222    1.000000  0.987726   \n\n            Connecticut  Delaware  District of Columbia   Florida  ...  \\\nAlabama             NaN       NaN                   NaN       NaN  ...   \nAlaska         0.992234  0.971193              0.973326  0.834101  ...   \nArizona        0.827466  0.786208              0.860865  0.952754  ...   \nArkansas       0.980991  0.971062              0.976168  0.805780  ...   \nCalifornia     0.992328  0.969744              0.982806  0.853217  ...   \n\n            Tennessee     Texas  U.S. Virgin Islands      Utah   Vermont  \\\nAlabama           NaN       NaN                  NaN       NaN       NaN   \nAlaska            NaN  0.948283             0.781511  0.961031  0.992841   \nArizona           NaN  0.806554             0.524404  0.761328  0.840408   \nArkansas          NaN  0.935556             0.826498  0.954685  0.982433   \nCalifornia        NaN  0.939076             0.793820  0.946546  0.992023   \n\n            Virginia  Washington  West Virginia  Wisconsin   Wyoming  \nAlabama          NaN         NaN            NaN        NaN       NaN  \nAlaska      0.953998    0.974007       0.984063   0.966210  0.876241  \nArizona     0.724143    0.853009       0.835118   0.776753  0.770526  \nArkansas    0.953048    0.965271       0.983518   0.961117  0.816334  \nCalifornia  0.931147    0.987628       0.977868   0.950854  0.873317  \n\n[5 rows x 54 columns]",
      "text/html": "<div>\n<style scoped>\n    .dataframe tbody tr th:only-of-type {\n        vertical-align: middle;\n    }\n\n    .dataframe tbody tr th {\n        vertical-align: top;\n    }\n\n    .dataframe thead th {\n        text-align: right;\n    }\n</style>\n<table border=\"1\" class=\"dataframe\">\n  <thead>\n    <tr style=\"text-align: right;\">\n      <th></th>\n      <th>Alabama</th>\n      <th>Alaska</th>\n      <th>Arizona</th>\n      <th>Arkansas</th>\n      <th>California</th>\n      <th>Colorado</th>\n      <th>Connecticut</th>\n      <th>Delaware</th>\n      <th>District of Columbia</th>\n      <th>Florida</th>\n      <th>...</th>\n      <th>Tennessee</th>\n      <th>Texas</th>\n      <th>U.S. Virgin Islands</th>\n      <th>Utah</th>\n      <th>Vermont</th>\n      <th>Virginia</th>\n      <th>Washington</th>\n      <th>West Virginia</th>\n      <th>Wisconsin</th>\n      <th>Wyoming</th>\n    </tr>\n  </thead>\n  <tbody>\n    <tr>\n      <th>Alabama</th>\n      <td>NaN</td>\n      <td>NaN</td>\n      <td>NaN</td>\n      <td>NaN</td>\n      <td>NaN</td>\n      <td>NaN</td>\n      <td>NaN</td>\n      <td>NaN</td>\n      <td>NaN</td>\n      <td>NaN</td>\n      <td>...</td>\n      <td>NaN</td>\n      <td>NaN</td>\n      <td>NaN</td>\n      <td>NaN</td>\n      <td>NaN</td>\n      <td>NaN</td>\n      <td>NaN</td>\n      <td>NaN</td>\n      <td>NaN</td>\n      <td>NaN</td>\n    </tr>\n    <tr>\n      <th>Alaska</th>\n      <td>NaN</td>\n      <td>1.000000</td>\n      <td>0.813187</td>\n      <td>0.981938</td>\n      <td>0.986455</td>\n      <td>0.970585</td>\n      <td>0.992234</td>\n      <td>0.971193</td>\n      <td>0.973326</td>\n      <td>0.834101</td>\n      <td>...</td>\n      <td>NaN</td>\n      <td>0.948283</td>\n      <td>0.781511</td>\n      <td>0.961031</td>\n      <td>0.992841</td>\n      <td>0.953998</td>\n      <td>0.974007</td>\n      <td>0.984063</td>\n      <td>0.966210</td>\n      <td>0.876241</td>\n    </tr>\n    <tr>\n      <th>Arizona</th>\n      <td>NaN</td>\n      <td>0.813187</td>\n      <td>1.000000</td>\n      <td>0.805781</td>\n      <td>0.853713</td>\n      <td>0.878803</td>\n      <td>0.827466</td>\n      <td>0.786208</td>\n      <td>0.860865</td>\n      <td>0.952754</td>\n      <td>...</td>\n      <td>NaN</td>\n      <td>0.806554</td>\n      <td>0.524404</td>\n      <td>0.761328</td>\n      <td>0.840408</td>\n      <td>0.724143</td>\n      <td>0.853009</td>\n      <td>0.835118</td>\n      <td>0.776753</td>\n      <td>0.770526</td>\n    </tr>\n    <tr>\n      <th>Arkansas</th>\n      <td>NaN</td>\n      <td>0.981938</td>\n      <td>0.805781</td>\n      <td>1.000000</td>\n      <td>0.981222</td>\n      <td>0.974544</td>\n      <td>0.980991</td>\n      <td>0.971062</td>\n      <td>0.976168</td>\n      <td>0.805780</td>\n      <td>...</td>\n      <td>NaN</td>\n      <td>0.935556</td>\n      <td>0.826498</td>\n      <td>0.954685</td>\n      <td>0.982433</td>\n      <td>0.953048</td>\n      <td>0.965271</td>\n      <td>0.983518</td>\n      <td>0.961117</td>\n      <td>0.816334</td>\n    </tr>\n    <tr>\n      <th>California</th>\n      <td>NaN</td>\n      <td>0.986455</td>\n      <td>0.853713</td>\n      <td>0.981222</td>\n      <td>1.000000</td>\n      <td>0.987726</td>\n      <td>0.992328</td>\n      <td>0.969744</td>\n      <td>0.982806</td>\n      <td>0.853217</td>\n      <td>...</td>\n      <td>NaN</td>\n      <td>0.939076</td>\n      <td>0.793820</td>\n      <td>0.946546</td>\n      <td>0.992023</td>\n      <td>0.931147</td>\n      <td>0.987628</td>\n      <td>0.977868</td>\n      <td>0.950854</td>\n      <td>0.873317</td>\n    </tr>\n  </tbody>\n</table>\n<p>5 rows × 54 columns</p>\n</div>"
     },
     "execution_count": 12,
     "metadata": {},
     "output_type": "execute_result"
    }
   ],
   "source": [
    "act_min_wage.describe()\n",
    "act_min_wage.corr().head()"
   ],
   "metadata": {
    "collapsed": false,
    "pycharm": {
     "name": "#%%\n"
    }
   }
  },
  {
   "cell_type": "markdown",
   "source": [
    "#### - Note that the state's rows has several weird value (can check from the csv)\n",
    "#### - Get those rows out & the state's name out!!"
   ],
   "metadata": {
    "collapsed": false,
    "pycharm": {
     "name": "#%% md\n"
    }
   }
  },
  {
   "cell_type": "code",
   "execution_count": 15,
   "outputs": [
    {
     "data": {
      "text/plain": "array(['Alabama', 'Florida', 'Georgia', 'Illinois', 'Iowa', 'Kansas',\n       'Louisiana', 'Mississippi', 'Missouri', 'Montana',\n       'South Carolina', 'Tennessee', 'Texas', 'U.S. Virgin Islands',\n       'Virginia', 'Arizona', 'Puerto Rico'], dtype=object)"
     },
     "execution_count": 15,
     "metadata": {},
     "output_type": "execute_result"
    }
   ],
   "source": [
    "issue_df = df.copy()[df[\"State.Minimum.Wage\"] == 0.0]\n",
    "issue_df.head()"
   ],
   "metadata": {
    "collapsed": false,
    "pycharm": {
     "name": "#%%\n"
    }
   }
  },
  {
   "cell_type": "code",
   "execution_count": 16,
   "outputs": [
    {
     "data": {
      "text/plain": "array(['Alabama', 'Florida', 'Georgia', 'Illinois', 'Iowa', 'Kansas',\n       'Louisiana', 'Mississippi', 'Missouri', 'Montana',\n       'South Carolina', 'Tennessee', 'Texas', 'U.S. Virgin Islands',\n       'Virginia', 'Arizona', 'Puerto Rico'], dtype=object)"
     },
     "execution_count": 16,
     "metadata": {},
     "output_type": "execute_result"
    }
   ],
   "source": [
    "issue_df[\"State\"].unique()\n"
   ],
   "metadata": {
    "collapsed": false,
    "pycharm": {
     "name": "#%%\n"
    }
   }
  },
  {
   "cell_type": "markdown",
   "source": [
    "#### - Replace those weird data with NaN & Drop those columns w/ useless data\n",
    "* axis=1 drops the column with NaN value\n",
    "* axis=0 drops the row with NaN value* REVISION: THE DATA HAS BEEN UPDATED, SO NO NEED TO REPLACE 0.0 TO NaN!!!"
   ],
   "metadata": {
    "collapsed": false,
    "pycharm": {
     "name": "#%% md\n"
    }
   }
  },
  {
   "cell_type": "code",
   "execution_count": 25,
   "outputs": [
    {
     "data": {
      "text/plain": "      Alaska  Arkansas  California  Colorado  Connecticut  Delaware  \\\nYear                                                                  \n1968     2.1   0.15625        1.65       1.0         1.40      1.25   \n1969     2.1   0.15625        1.65       1.0         1.40      1.25   \n1970     2.1   1.10000        1.65       1.0         1.60      1.25   \n1971     2.1   1.10000        1.65       1.0         1.60      1.25   \n1972     2.1   1.20000        1.65       1.0         1.85      1.60   \n\n      District of Columbia  Guam  Hawaii  Idaho  ...  Oregon  Pennsylvania  \\\nYear                                             ...                         \n1968                  1.25  1.25    1.25   1.15  ...    1.25          1.15   \n1969                  1.25  1.25    1.25   1.15  ...    1.25          1.15   \n1970                  1.60  1.60    1.60   1.25  ...    1.25          1.30   \n1971                  1.60  1.60    1.60   1.25  ...    1.25          1.30   \n1972                  1.60  1.90    1.60   1.40  ...    1.25          1.60   \n\n      Rhode Island  South Dakota  Utah  Vermont  Washington  West Virginia  \\\nYear                                                                         \n1968           1.4         0.425   1.0      1.4         1.6            1.0   \n1969           1.4         0.425   1.0      1.4         1.6            1.0   \n1970           1.6         1.000   1.0      1.6         1.6            1.0   \n1971           1.6         1.000   1.0      1.6         1.6            1.0   \n1972           1.6         1.000   1.2      1.6         1.6            1.2   \n\n      Wisconsin  Wyoming  \nYear                      \n1968       1.25      1.2  \n1969       1.25      1.2  \n1970       1.30      1.3  \n1971       1.30      1.3  \n1972       1.45      1.5  \n\n[5 rows x 37 columns]",
      "text/html": "<div>\n<style scoped>\n    .dataframe tbody tr th:only-of-type {\n        vertical-align: middle;\n    }\n\n    .dataframe tbody tr th {\n        vertical-align: top;\n    }\n\n    .dataframe thead th {\n        text-align: right;\n    }\n</style>\n<table border=\"1\" class=\"dataframe\">\n  <thead>\n    <tr style=\"text-align: right;\">\n      <th></th>\n      <th>Alaska</th>\n      <th>Arkansas</th>\n      <th>California</th>\n      <th>Colorado</th>\n      <th>Connecticut</th>\n      <th>Delaware</th>\n      <th>District of Columbia</th>\n      <th>Guam</th>\n      <th>Hawaii</th>\n      <th>Idaho</th>\n      <th>...</th>\n      <th>Oregon</th>\n      <th>Pennsylvania</th>\n      <th>Rhode Island</th>\n      <th>South Dakota</th>\n      <th>Utah</th>\n      <th>Vermont</th>\n      <th>Washington</th>\n      <th>West Virginia</th>\n      <th>Wisconsin</th>\n      <th>Wyoming</th>\n    </tr>\n    <tr>\n      <th>Year</th>\n      <th></th>\n      <th></th>\n      <th></th>\n      <th></th>\n      <th></th>\n      <th></th>\n      <th></th>\n      <th></th>\n      <th></th>\n      <th></th>\n      <th></th>\n      <th></th>\n      <th></th>\n      <th></th>\n      <th></th>\n      <th></th>\n      <th></th>\n      <th></th>\n      <th></th>\n      <th></th>\n      <th></th>\n    </tr>\n  </thead>\n  <tbody>\n    <tr>\n      <th>1968</th>\n      <td>2.1</td>\n      <td>0.15625</td>\n      <td>1.65</td>\n      <td>1.0</td>\n      <td>1.40</td>\n      <td>1.25</td>\n      <td>1.25</td>\n      <td>1.25</td>\n      <td>1.25</td>\n      <td>1.15</td>\n      <td>...</td>\n      <td>1.25</td>\n      <td>1.15</td>\n      <td>1.4</td>\n      <td>0.425</td>\n      <td>1.0</td>\n      <td>1.4</td>\n      <td>1.6</td>\n      <td>1.0</td>\n      <td>1.25</td>\n      <td>1.2</td>\n    </tr>\n    <tr>\n      <th>1969</th>\n      <td>2.1</td>\n      <td>0.15625</td>\n      <td>1.65</td>\n      <td>1.0</td>\n      <td>1.40</td>\n      <td>1.25</td>\n      <td>1.25</td>\n      <td>1.25</td>\n      <td>1.25</td>\n      <td>1.15</td>\n      <td>...</td>\n      <td>1.25</td>\n      <td>1.15</td>\n      <td>1.4</td>\n      <td>0.425</td>\n      <td>1.0</td>\n      <td>1.4</td>\n      <td>1.6</td>\n      <td>1.0</td>\n      <td>1.25</td>\n      <td>1.2</td>\n    </tr>\n    <tr>\n      <th>1970</th>\n      <td>2.1</td>\n      <td>1.10000</td>\n      <td>1.65</td>\n      <td>1.0</td>\n      <td>1.60</td>\n      <td>1.25</td>\n      <td>1.60</td>\n      <td>1.60</td>\n      <td>1.60</td>\n      <td>1.25</td>\n      <td>...</td>\n      <td>1.25</td>\n      <td>1.30</td>\n      <td>1.6</td>\n      <td>1.000</td>\n      <td>1.0</td>\n      <td>1.6</td>\n      <td>1.6</td>\n      <td>1.0</td>\n      <td>1.30</td>\n      <td>1.3</td>\n    </tr>\n    <tr>\n      <th>1971</th>\n      <td>2.1</td>\n      <td>1.10000</td>\n      <td>1.65</td>\n      <td>1.0</td>\n      <td>1.60</td>\n      <td>1.25</td>\n      <td>1.60</td>\n      <td>1.60</td>\n      <td>1.60</td>\n      <td>1.25</td>\n      <td>...</td>\n      <td>1.25</td>\n      <td>1.30</td>\n      <td>1.6</td>\n      <td>1.000</td>\n      <td>1.0</td>\n      <td>1.6</td>\n      <td>1.6</td>\n      <td>1.0</td>\n      <td>1.30</td>\n      <td>1.3</td>\n    </tr>\n    <tr>\n      <th>1972</th>\n      <td>2.1</td>\n      <td>1.20000</td>\n      <td>1.65</td>\n      <td>1.0</td>\n      <td>1.85</td>\n      <td>1.60</td>\n      <td>1.60</td>\n      <td>1.90</td>\n      <td>1.60</td>\n      <td>1.40</td>\n      <td>...</td>\n      <td>1.25</td>\n      <td>1.60</td>\n      <td>1.6</td>\n      <td>1.000</td>\n      <td>1.2</td>\n      <td>1.6</td>\n      <td>1.6</td>\n      <td>1.2</td>\n      <td>1.45</td>\n      <td>1.5</td>\n    </tr>\n  </tbody>\n</table>\n<p>5 rows × 37 columns</p>\n</div>"
     },
     "execution_count": 25,
     "metadata": {},
     "output_type": "execute_result"
    }
   ],
   "source": [
    "import numpy as np\n",
    "act_min_wage = act_min_wage.replace(0, np.NaN).dropna(axis=1)\n",
    "act_min_wage.head()"
   ],
   "metadata": {
    "collapsed": false,
    "pycharm": {
     "name": "#%%\n"
    }
   }
  },
  {
   "cell_type": "code",
   "execution_count": 28,
   "outputs": [
    {
     "data": {
      "text/plain": "               Alaska  Arkansas  California  Colorado  Connecticut  Delaware  \\\nAlaska       1.000000  0.981938    0.986455  0.970585     0.992234  0.971193   \nArkansas     0.981938  1.000000    0.981222  0.974544     0.980991  0.971062   \nCalifornia   0.986455  0.981222    1.000000  0.987726     0.992328  0.969744   \nColorado     0.970585  0.974544    0.987726  1.000000     0.980025  0.968148   \nConnecticut  0.992234  0.980991    0.992328  0.980025     1.000000  0.981611   \n\n             District of Columbia      Guam    Hawaii     Idaho  ...  \\\nAlaska                   0.973326  0.979386  0.986835  0.958666  ...   \nArkansas                 0.976168  0.975847  0.989265  0.951022  ...   \nCalifornia               0.982806  0.967800  0.981436  0.946857  ...   \nColorado                 0.986274  0.961301  0.973284  0.942145  ...   \nConnecticut              0.972706  0.976996  0.984969  0.963695  ...   \n\n               Oregon  Pennsylvania  Rhode Island  South Dakota      Utah  \\\nAlaska       0.989706      0.959445      0.991785      0.980783  0.961031   \nArkansas     0.982317      0.957945      0.986417      0.984424  0.954685   \nCalifornia   0.985984      0.946763      0.989798      0.974206  0.946546   \nColorado     0.977187      0.939117      0.980496      0.970238  0.940727   \nConnecticut  0.993275      0.965274      0.994482      0.979789  0.964255   \n\n              Vermont  Washington  West Virginia  Wisconsin   Wyoming  \nAlaska       0.992841    0.974007       0.984063   0.966210  0.876241  \nArkansas     0.982433    0.965271       0.983518   0.961117  0.816334  \nCalifornia   0.992023    0.987628       0.977868   0.950854  0.873317  \nColorado     0.982147    0.982347       0.972318   0.943689  0.845495  \nConnecticut  0.997531    0.984275       0.986163   0.971129  0.894385  \n\n[5 rows x 37 columns]",
      "text/html": "<div>\n<style scoped>\n    .dataframe tbody tr th:only-of-type {\n        vertical-align: middle;\n    }\n\n    .dataframe tbody tr th {\n        vertical-align: top;\n    }\n\n    .dataframe thead th {\n        text-align: right;\n    }\n</style>\n<table border=\"1\" class=\"dataframe\">\n  <thead>\n    <tr style=\"text-align: right;\">\n      <th></th>\n      <th>Alaska</th>\n      <th>Arkansas</th>\n      <th>California</th>\n      <th>Colorado</th>\n      <th>Connecticut</th>\n      <th>Delaware</th>\n      <th>District of Columbia</th>\n      <th>Guam</th>\n      <th>Hawaii</th>\n      <th>Idaho</th>\n      <th>...</th>\n      <th>Oregon</th>\n      <th>Pennsylvania</th>\n      <th>Rhode Island</th>\n      <th>South Dakota</th>\n      <th>Utah</th>\n      <th>Vermont</th>\n      <th>Washington</th>\n      <th>West Virginia</th>\n      <th>Wisconsin</th>\n      <th>Wyoming</th>\n    </tr>\n  </thead>\n  <tbody>\n    <tr>\n      <th>Alaska</th>\n      <td>1.000000</td>\n      <td>0.981938</td>\n      <td>0.986455</td>\n      <td>0.970585</td>\n      <td>0.992234</td>\n      <td>0.971193</td>\n      <td>0.973326</td>\n      <td>0.979386</td>\n      <td>0.986835</td>\n      <td>0.958666</td>\n      <td>...</td>\n      <td>0.989706</td>\n      <td>0.959445</td>\n      <td>0.991785</td>\n      <td>0.980783</td>\n      <td>0.961031</td>\n      <td>0.992841</td>\n      <td>0.974007</td>\n      <td>0.984063</td>\n      <td>0.966210</td>\n      <td>0.876241</td>\n    </tr>\n    <tr>\n      <th>Arkansas</th>\n      <td>0.981938</td>\n      <td>1.000000</td>\n      <td>0.981222</td>\n      <td>0.974544</td>\n      <td>0.980991</td>\n      <td>0.971062</td>\n      <td>0.976168</td>\n      <td>0.975847</td>\n      <td>0.989265</td>\n      <td>0.951022</td>\n      <td>...</td>\n      <td>0.982317</td>\n      <td>0.957945</td>\n      <td>0.986417</td>\n      <td>0.984424</td>\n      <td>0.954685</td>\n      <td>0.982433</td>\n      <td>0.965271</td>\n      <td>0.983518</td>\n      <td>0.961117</td>\n      <td>0.816334</td>\n    </tr>\n    <tr>\n      <th>California</th>\n      <td>0.986455</td>\n      <td>0.981222</td>\n      <td>1.000000</td>\n      <td>0.987726</td>\n      <td>0.992328</td>\n      <td>0.969744</td>\n      <td>0.982806</td>\n      <td>0.967800</td>\n      <td>0.981436</td>\n      <td>0.946857</td>\n      <td>...</td>\n      <td>0.985984</td>\n      <td>0.946763</td>\n      <td>0.989798</td>\n      <td>0.974206</td>\n      <td>0.946546</td>\n      <td>0.992023</td>\n      <td>0.987628</td>\n      <td>0.977868</td>\n      <td>0.950854</td>\n      <td>0.873317</td>\n    </tr>\n    <tr>\n      <th>Colorado</th>\n      <td>0.970585</td>\n      <td>0.974544</td>\n      <td>0.987726</td>\n      <td>1.000000</td>\n      <td>0.980025</td>\n      <td>0.968148</td>\n      <td>0.986274</td>\n      <td>0.961301</td>\n      <td>0.973284</td>\n      <td>0.942145</td>\n      <td>...</td>\n      <td>0.977187</td>\n      <td>0.939117</td>\n      <td>0.980496</td>\n      <td>0.970238</td>\n      <td>0.940727</td>\n      <td>0.982147</td>\n      <td>0.982347</td>\n      <td>0.972318</td>\n      <td>0.943689</td>\n      <td>0.845495</td>\n    </tr>\n    <tr>\n      <th>Connecticut</th>\n      <td>0.992234</td>\n      <td>0.980991</td>\n      <td>0.992328</td>\n      <td>0.980025</td>\n      <td>1.000000</td>\n      <td>0.981611</td>\n      <td>0.972706</td>\n      <td>0.976996</td>\n      <td>0.984969</td>\n      <td>0.963695</td>\n      <td>...</td>\n      <td>0.993275</td>\n      <td>0.965274</td>\n      <td>0.994482</td>\n      <td>0.979789</td>\n      <td>0.964255</td>\n      <td>0.997531</td>\n      <td>0.984275</td>\n      <td>0.986163</td>\n      <td>0.971129</td>\n      <td>0.894385</td>\n    </tr>\n  </tbody>\n</table>\n<p>5 rows × 37 columns</p>\n</div>"
     },
     "execution_count": 28,
     "metadata": {},
     "output_type": "execute_result"
    }
   ],
   "source": [
    "min_wage_corr = act_min_wage.corr()\n",
    "min_wage_corr.head()\n"
   ],
   "metadata": {
    "collapsed": false,
    "pycharm": {
     "name": "#%%\n"
    }
   }
  },
  {
   "cell_type": "markdown",
   "source": [
    "#### - PERFORM A SAFETY CHECK:\n",
    "* Some states might not have data in the old days, i.e *NaN*, but they have it now but it's *0.0*\n",
    "* Previously we drop the State columns with 0.0 State.Minimum.Wage, still need to drop state's columns that has NaN or other non-sense value."
   ],
   "metadata": {
    "collapsed": false,
    "pycharm": {
     "name": "#%% md\n"
    }
   }
  },
  {
   "cell_type": "code",
   "execution_count": 32,
   "outputs": [],
   "source": [
    "for problem in issue_df[\"State\"].unique():\n",
    "    if problem in min_wage_corr.columns:\n",
    "        print(\"Missing sth here...\")"
   ],
   "metadata": {
    "collapsed": false,
    "pycharm": {
     "name": "#%%\n"
    }
   }
  },
  {
   "cell_type": "code",
   "execution_count": 33,
   "outputs": [
    {
     "data": {
      "text/plain": "     Year    State  State.Minimum.Wage  State.Minimum.Wage.2020.Dollars  \\\n0    1968  Alabama                 0.0                              0.0   \n54   1969  Alabama                 0.0                              0.0   \n108  1970  Alabama                 0.0                              0.0   \n162  1971  Alabama                 0.0                              0.0   \n216  1972  Alabama                 0.0                              0.0   \n\n     Federal.Minimum.Wage  Federal.Minimum.Wage.2020.Dollars  \\\n0                    1.15                               8.55   \n54                   1.15                               8.11   \n108                  1.30                               8.67   \n162                  1.30                               8.30   \n216                  1.60                               9.90   \n\n     Effective.Minimum.Wage  Effective.Minimum.Wage.2020.Dollars  CPI.Average  \\\n0                      1.15                                 8.55         34.8   \n54                     1.15                                 8.11         36.7   \n108                    1.30                                 8.67         38.8   \n162                    1.30                                 8.30         40.5   \n216                    1.60                                 9.90         41.8   \n\n    Department.Of.Labor.Uncleaned.Data  Department.Of.Labor.Cleaned.Low.Value  \\\n0                                  ...                                    0.0   \n54                                 ...                                    0.0   \n108                                ...                                    0.0   \n162                                ...                                    0.0   \n216                                ...                                    0.0   \n\n     Department.Of.Labor.Cleaned.Low.Value.2020.Dollars  \\\n0                                                  0.0    \n54                                                 0.0    \n108                                                0.0    \n162                                                0.0    \n216                                                0.0    \n\n     Department.Of.Labor.Cleaned.High.Value  \\\n0                                       0.0   \n54                                      0.0   \n108                                     0.0   \n162                                     0.0   \n216                                     0.0   \n\n     Department.Of.Labor.Cleaned.High.Value.2020.Dollars Footnote  \n0                                                  0.0        NaN  \n54                                                 0.0        NaN  \n108                                                0.0        NaN  \n162                                                0.0        NaN  \n216                                                0.0        NaN  ",
      "text/html": "<div>\n<style scoped>\n    .dataframe tbody tr th:only-of-type {\n        vertical-align: middle;\n    }\n\n    .dataframe tbody tr th {\n        vertical-align: top;\n    }\n\n    .dataframe thead th {\n        text-align: right;\n    }\n</style>\n<table border=\"1\" class=\"dataframe\">\n  <thead>\n    <tr style=\"text-align: right;\">\n      <th></th>\n      <th>Year</th>\n      <th>State</th>\n      <th>State.Minimum.Wage</th>\n      <th>State.Minimum.Wage.2020.Dollars</th>\n      <th>Federal.Minimum.Wage</th>\n      <th>Federal.Minimum.Wage.2020.Dollars</th>\n      <th>Effective.Minimum.Wage</th>\n      <th>Effective.Minimum.Wage.2020.Dollars</th>\n      <th>CPI.Average</th>\n      <th>Department.Of.Labor.Uncleaned.Data</th>\n      <th>Department.Of.Labor.Cleaned.Low.Value</th>\n      <th>Department.Of.Labor.Cleaned.Low.Value.2020.Dollars</th>\n      <th>Department.Of.Labor.Cleaned.High.Value</th>\n      <th>Department.Of.Labor.Cleaned.High.Value.2020.Dollars</th>\n      <th>Footnote</th>\n    </tr>\n  </thead>\n  <tbody>\n    <tr>\n      <th>0</th>\n      <td>1968</td>\n      <td>Alabama</td>\n      <td>0.0</td>\n      <td>0.0</td>\n      <td>1.15</td>\n      <td>8.55</td>\n      <td>1.15</td>\n      <td>8.55</td>\n      <td>34.8</td>\n      <td>...</td>\n      <td>0.0</td>\n      <td>0.0</td>\n      <td>0.0</td>\n      <td>0.0</td>\n      <td>NaN</td>\n    </tr>\n    <tr>\n      <th>54</th>\n      <td>1969</td>\n      <td>Alabama</td>\n      <td>0.0</td>\n      <td>0.0</td>\n      <td>1.15</td>\n      <td>8.11</td>\n      <td>1.15</td>\n      <td>8.11</td>\n      <td>36.7</td>\n      <td>...</td>\n      <td>0.0</td>\n      <td>0.0</td>\n      <td>0.0</td>\n      <td>0.0</td>\n      <td>NaN</td>\n    </tr>\n    <tr>\n      <th>108</th>\n      <td>1970</td>\n      <td>Alabama</td>\n      <td>0.0</td>\n      <td>0.0</td>\n      <td>1.30</td>\n      <td>8.67</td>\n      <td>1.30</td>\n      <td>8.67</td>\n      <td>38.8</td>\n      <td>...</td>\n      <td>0.0</td>\n      <td>0.0</td>\n      <td>0.0</td>\n      <td>0.0</td>\n      <td>NaN</td>\n    </tr>\n    <tr>\n      <th>162</th>\n      <td>1971</td>\n      <td>Alabama</td>\n      <td>0.0</td>\n      <td>0.0</td>\n      <td>1.30</td>\n      <td>8.30</td>\n      <td>1.30</td>\n      <td>8.30</td>\n      <td>40.5</td>\n      <td>...</td>\n      <td>0.0</td>\n      <td>0.0</td>\n      <td>0.0</td>\n      <td>0.0</td>\n      <td>NaN</td>\n    </tr>\n    <tr>\n      <th>216</th>\n      <td>1972</td>\n      <td>Alabama</td>\n      <td>0.0</td>\n      <td>0.0</td>\n      <td>1.60</td>\n      <td>9.90</td>\n      <td>1.60</td>\n      <td>9.90</td>\n      <td>41.8</td>\n      <td>...</td>\n      <td>0.0</td>\n      <td>0.0</td>\n      <td>0.0</td>\n      <td>0.0</td>\n      <td>NaN</td>\n    </tr>\n  </tbody>\n</table>\n</div>"
     },
     "execution_count": 33,
     "metadata": {},
     "output_type": "execute_result"
    }
   ],
   "source": [
    "grouped_issues = issue_df.groupby(\"State\")\n",
    "grouped_issues.get_group(\"Alabama\").head()\n"
   ],
   "metadata": {
    "collapsed": false,
    "pycharm": {
     "name": "#%%\n"
    }
   }
  },
  {
   "cell_type": "code",
   "execution_count": 34,
   "outputs": [
    {
     "data": {
      "text/plain": "0.0"
     },
     "execution_count": 34,
     "metadata": {},
     "output_type": "execute_result"
    }
   ],
   "source": [
    "grouped_issues.get_group(\"Alabama\")[\"State.Minimum.Wage\"].sum()\n"
   ],
   "metadata": {
    "collapsed": false,
    "pycharm": {
     "name": "#%%\n"
    }
   }
  },
  {
   "cell_type": "code",
   "execution_count": 35,
   "outputs": [],
   "source": [
    "for state, data in grouped_issues:\n",
    "    if data[\"State.Minimum.Wage\"].sum() != 0:\n",
    "        print(\"we missed sth...\")\n"
   ],
   "metadata": {
    "collapsed": false,
    "pycharm": {
     "name": "#%%\n"
    }
   }
  },
  {
   "cell_type": "code",
   "execution_count": null,
   "outputs": [],
   "source": [],
   "metadata": {
    "collapsed": false,
    "pycharm": {
     "name": "#%%"
    }
   }
  }
 ],
 "metadata": {
  "kernelspec": {
   "display_name": "Python 3",
   "language": "python",
   "name": "python3"
  },
  "language_info": {
   "codemirror_mode": {
    "name": "ipython",
    "version": 2
   },
   "file_extension": ".py",
   "mimetype": "text/x-python",
   "name": "python",
   "nbconvert_exporter": "python",
   "pygments_lexer": "ipython2",
   "version": "2.7.6"
  }
 },
 "nbformat": 4,
 "nbformat_minor": 0
}